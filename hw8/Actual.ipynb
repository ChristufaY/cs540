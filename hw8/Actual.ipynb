{
 "cells": [
  {
   "cell_type": "code",
   "execution_count": 14,
   "id": "84c41c37",
   "metadata": {},
   "outputs": [],
   "source": [
    "import random\n",
    "import math\n",
    "import copy\n",
    "\n",
    "class TeekoPlayer:\n",
    "    \"\"\" An object representation for an AI game player for the game Teeko.\n",
    "    \"\"\"\n",
    "    board = [[' ' for j in range(5)] for i in range(5)]\n",
    "    pieces = ['b', 'r']\n",
    "    numPieces = 0\n",
    "\n",
    "    def __init__(self):\n",
    "        \"\"\" Initializes a TeekoPlayer object by randomly selecting red or black as its\n",
    "        piece color.\n",
    "        \"\"\"\n",
    "        self.my_piece = random.choice(self.pieces)\n",
    "        self.opp = self.pieces[0] if self.my_piece == self.pieces[1] else self.pieces[1]\n",
    "    \n",
    "    def succ(self, state):\n",
    "        successors = []   \n",
    "        if(self.numPieces < 8):\n",
    "            for row in range(len(state)):\n",
    "                for col in range(len(state[row])):\n",
    "                        if(state[row][col] == ' '):\n",
    "                            successors.append([row, col])\n",
    "        else:\n",
    "            for row in range(len(state)):\n",
    "                for col in range(len(state[row])):\n",
    "                    if(self.my_piece == state[row][col]):\n",
    "                        if(row-1 >= 0 and col-1 >=0 and state[row-1][col-1] == ' '):\n",
    "                            successors.append([(row-1, col-1), (row, col)])\n",
    "                        if(row-1 >= 0 and state[row-1][col] == ' '):\n",
    "                            successors.append([(row-1, col), (row, col)])\n",
    "                        if(row-1 >= 0 and col+1 <= 4 and state[row-1][col+1] == ' '):\n",
    "                            successors.append([(row-1, col+1), (row, col)])\n",
    "                        if(col-1 >= 0 and state[row][col-1] == ' '):\n",
    "                            successors.append([(row, col-1), (row, col)])\n",
    "                        if(col+1 <= 4 and state[row][col+1] == ' '):\n",
    "                            successors.append([(row, col+1), (row, col)])\n",
    "                        if(row+1 <= 4 and col-1 >= 0 and state[row+1][col-1] == ' '):\n",
    "                            successors.append([(row+1, col-1), (row, col)])\n",
    "                        if(row+1 <= 4 and state[row+1][col] == ' '):\n",
    "                            successors.append([(row+1, col), (row, col)])\n",
    "                        if(row+1 <= 4 and col+1 <= 4 and state[row+1][col+1] == ' '):\n",
    "                            successors.append([(row+1, col+1), (row, col)])\n",
    "        return successors\n",
    "    def make_move(self, state):\n",
    "        \"\"\" Selects a (row, col) space for the next move. You may assume that whenever\n",
    "        this function is called, it is this player's turn to move.\n",
    "\n",
    "        Args:\n",
    "            state (list of lists): should be the current state of the game as saved in\n",
    "                this TeekoPlayer object. Note that this is NOT assumed to be a copy of\n",
    "                the game state and should NOT be modified within this method (use\n",
    "                place_piece() instead). Any modifications (e.g. to generate successors)\n",
    "                should be done on a deep copy of the state.\n",
    "\n",
    "                In the \"drop phase\", the state will contain less than 8 elements which\n",
    "                are not ' ' (a single space character).\n",
    "\n",
    "        Return:\n",
    "            move (list): a list of move tuples such that its format is\n",
    "                    [(row, col), (source_row, source_col)]\n",
    "                where the (row, col) tuple is the location to place a piece and the\n",
    "                optional (source_row, source_col) tuple contains the location of the\n",
    "                piece the AI plans to relocate (for moves after the drop phase). In\n",
    "                the drop phase, this list should contain ONLY THE FIRST tuple.\n",
    "\n",
    "        Note that without drop phase behavior, the AI will just keep placing new markers\n",
    "            and will eventually take over the board. This is not a valid strategy and\n",
    "            will earn you no points.\n",
    "        \"\"\"\n",
    "\n",
    "        if(self.numPieces < 8):\n",
    "            drop_phase = True   # TODO: detect drop phase\n",
    "        else:\n",
    "            drop_phase = False\n",
    "        \n",
    "        possible = succ(self, state)\n",
    "        \n",
    "        \n",
    "        if not drop_phase:\n",
    "            # TODO: choose a piece to move and remove it from the board\n",
    "            # (You may move this condition anywhere, just be sure to handle it)\n",
    "            #\n",
    "            # Until this part is implemented and the move list is updated\n",
    "            # accordingly, the AI will not follow the rules after the drop phase!\n",
    "            pass\n",
    "\n",
    "        # select an unoccupied space randomly\n",
    "        # TODO: implement a minimax algorithm to play better\n",
    "        move = []\n",
    "        (row, col) = (random.randint(0,4), random.randint(0,4))\n",
    "        while not state[row][col] == ' ':\n",
    "            (row, col) = (random.randint(0,4), random.randint(0,4))\n",
    "\n",
    "        # ensure the destination (row,col) tuple is at the beginning of the move list\n",
    "        move.insert(0, (row, col))\n",
    "        return move\n",
    "\n",
    "    def opponent_move(self, move):\n",
    "        \"\"\" Validates the opponent's next move against the internal board representation.\n",
    "        You don't need to touch this code.\n",
    "\n",
    "        Args:\n",
    "            move (list): a list of move tuples such that its format is\n",
    "                    [(row, col), (source_row, source_col)]\n",
    "                where the (row, col) tuple is the location to place a piece and the\n",
    "                optional (source_row, source_col) tuple contains the location of the\n",
    "                piece the AI plans to relocate (for moves after the drop phase). In\n",
    "                the drop phase, this list should contain ONLY THE FIRST tuple.\n",
    "        \"\"\"\n",
    "        # validate input\n",
    "        if len(move) > 1:\n",
    "            source_row = move[1][0]\n",
    "            source_col = move[1][1]\n",
    "            if source_row != None and self.board[source_row][source_col] != self.opp:\n",
    "                self.print_board()\n",
    "                print(move)\n",
    "                raise Exception(\"You don't have a piece there!\")\n",
    "            if abs(source_row - move[0][0]) > 1 or abs(source_col - move[0][1]) > 1:\n",
    "                self.print_board()\n",
    "                print(move)\n",
    "                raise Exception('Illegal move: Can only move to an adjacent space')\n",
    "        if self.board[move[0][0]][move[0][1]] != ' ':\n",
    "            raise Exception(\"Illegal move detected\")\n",
    "        # make move\n",
    "        self.place_piece(move, self.opp)\n",
    "\n",
    "    def place_piece(self, move, piece):\n",
    "        \"\"\" Modifies the board representation using the specified move and piece\n",
    "\n",
    "        Args:\n",
    "            move (list): a list of move tuples such that its format is\n",
    "                    [(row, col), (source_row, source_col)]\n",
    "                where the (row, col) tuple is the location to place a piece and the\n",
    "                optional (source_row, source_col) tuple contains the location of the\n",
    "                piece the AI plans to relocate (for moves after the drop phase). In\n",
    "                the drop phase, this list should contain ONLY THE FIRST tuple.\n",
    "\n",
    "                This argument is assumed to have been validated before this method\n",
    "                is called.\n",
    "            piece (str): the piece ('b' or 'r') to place on the board\n",
    "        \"\"\"\n",
    "        if len(move) > 1:\n",
    "            self.board[move[1][0]][move[1][1]] = ' '\n",
    "        self.board[move[0][0]][move[0][1]] = piece\n",
    "        self.numPieces = self.numPieces + 1\n",
    "\n",
    "    def print_board(self):\n",
    "        \"\"\" Formatted printing for the board \"\"\"\n",
    "        for row in range(len(self.board)):\n",
    "            line = str(row)+\": \"\n",
    "            for cell in self.board[row]:\n",
    "                line += cell + \" \"\n",
    "            print(line)\n",
    "        print(\"   A B C D E\")\n",
    "\n",
    "    def game_value(self, state):\n",
    "        \"\"\" Checks the current board status for a win condition\n",
    "\n",
    "        Args:\n",
    "        state (list of lists): either the current state of the game as saved in\n",
    "            this TeekoPlayer object, or a generated successor state.\n",
    "\n",
    "        Returns:\n",
    "            int: 1 if this TeekoPlayer wins, -1 if the opponent wins, 0 if no winner\n",
    "\n",
    "        TODO: complete checks for diagonal and box wins\n",
    "        \"\"\"\n",
    "        # check horizontal wins\n",
    "        for row in state:\n",
    "            for i in range(2):\n",
    "                if row[i] != ' ' and row[i] == row[i+1] == row[i+2] == row[i+3]:\n",
    "                    return 1 if row[i]==self.my_piece else -1\n",
    "\n",
    "        # check vertical wins\n",
    "        for col in range(5):\n",
    "            for i in range(2):\n",
    "                if state[i][col] != ' ' and state[i][col] == state[i+1][col] == state[i+2][col] == state[i+3][col]:\n",
    "                    return 1 if state[i][col]==self.my_piece else -1\n",
    "\n",
    "        # TODO: check \\ diagonal wins\n",
    "        for row in range(2):\n",
    "            for col in range(2):\n",
    "                if state[row][col] != ' ' and state[row][col] == state[row+1][col+1] == state[row+2][col+2] == state[row+3][col+3]:\n",
    "                    return 1 if state[row][col]==self.my_piece else -1\n",
    "                \n",
    "        # TODO: check / diagonal wins\n",
    "        for row in range(2):\n",
    "            for col in range(2):\n",
    "                if state[4-row][col] != ' ' and state[4-row][col] == state[3-row][col+1] == state[2-row][col+2] == state[1-row][col+3]:\n",
    "                    return 1 if state[4-row][col]==self.my_piece else -1\n",
    "                \n",
    "        # TODO: check box wins\n",
    "        for row in range(4):\n",
    "            for col in range(4):\n",
    "                if state[row][col] != ' ' and state[row][col] == state[row+1][col] == state[row][col+1] == state[row+1][col+1]:\n",
    "                    return 1 if state[row][col]==self.my_piece else -1\n",
    "\n",
    "        return 0 # no winner yet\n",
    "\n",
    "    def heuristic_game_value(self, state):\n",
    "        game_val = self.game_value(self, state)\n",
    "        if(game_val == 1 or game_val == -1):\n",
    "            return game_val\n",
    "        else:\n",
    "            sumDist = 0\n",
    "            pieces = []\n",
    "            for i in len(state):\n",
    "                for j in len(state[row]):\n",
    "                    if(state[i][j] == self.my_piece):\n",
    "                        pieces.append([(i,j)])\n",
    "            for i in len(pieces):\n",
    "                for j in len(pieces):\n",
    "                    sumDist = sumDist + math.dist(pieces[i], pieces[j])\n",
    "            sumDist = sumDist / 2\n",
    "            sumDist = 1 - 1/sumDist\n",
    "            return sumDist\n",
    "        \n",
    "    def max_value(self, state, depth):\n",
    "        alpha = float('inf') * -1\n",
    "        game_val = self.game_value(self, state)\n",
    "        if(game_val == 1 or game_val == -1):\n",
    "            return game_val\n",
    "        elif(depth >= 3):\n",
    "            return self.heuristic_game_value(self, state)\n",
    "        else:\n",
    "            for states in self.succ(self, state):\n",
    "                alpha = max(alpha, self.min_value(self, state, depth + 1))\n",
    "            return alpha\n",
    "        \n",
    "    def min_value(self, state, depth):\n",
    "        beta = float('inf')\n",
    "        game_val = self.game_value(self, state)\n",
    "        if(game_val == 1 or game_val == -1):\n",
    "            return game_val\n",
    "        elif(depth >= 3):\n",
    "            return self.heuristic_game_value(self.opp, state)\n",
    "        else:\n",
    "            for states in self.succ(self.opp, state):\n",
    "                beta = min(beta, self.max_value(self, state, depth + 1))\n",
    "            return beta\n",
    "        \n",
    "############################################################################\n",
    "#\n",
    "# THE FOLLOWING CODE IS FOR SAMPLE GAMEPLAY ONLY\n",
    "#\n",
    "############################################################################\n",
    "def main():\n",
    "    print('Hello, this is Samaritan')\n",
    "    ai = TeekoPlayer()\n",
    "    piece_count = 0\n",
    "    turn = 0\n",
    "\n",
    "    # drop phase\n",
    "    while piece_count < 8 and ai.game_value(ai.board) == 0:\n",
    "\n",
    "        # get the player or AI's move\n",
    "        if ai.my_piece == ai.pieces[turn]:\n",
    "            ai.print_board()\n",
    "            move = ai.make_move(ai.board)\n",
    "            ai.place_piece(move, ai.my_piece)\n",
    "            print(ai.my_piece+\" moved at \"+chr(move[0][1]+ord(\"A\"))+str(move[0][0]))\n",
    "        else:\n",
    "            move_made = False\n",
    "            ai.print_board()\n",
    "            print(ai.opp+\"'s turn\")\n",
    "            while not move_made:\n",
    "                player_move = input(\"Move (e.g. B3): \")\n",
    "                while player_move[0] not in \"ABCDE\" or player_move[1] not in \"01234\":\n",
    "                    player_move = input(\"Move (e.g. B3): \")\n",
    "                try:\n",
    "                    ai.opponent_move([(int(player_move[1]), ord(player_move[0])-ord(\"A\"))])\n",
    "                    move_made = True\n",
    "                except Exception as e:\n",
    "                    print(e)\n",
    "\n",
    "        # update the game variables\n",
    "        piece_count += 1\n",
    "        turn += 1\n",
    "        turn %= 2\n",
    "\n",
    "    # move phase - can't have a winner until all 8 pieces are on the board\n",
    "    while ai.game_value(ai.board) == 0:\n",
    "\n",
    "        # get the player or AI's move\n",
    "        if ai.my_piece == ai.pieces[turn]:\n",
    "            ai.print_board()\n",
    "            move = ai.make_move(ai.board)\n",
    "            ai.place_piece(move, ai.my_piece)\n",
    "            print(ai.my_piece+\" moved from \"+chr(move[1][1]+ord(\"A\"))+str(move[1][0]))\n",
    "            print(\"  to \"+chr(move[0][1]+ord(\"A\"))+str(move[0][0]))\n",
    "        else:\n",
    "            move_made = False\n",
    "            ai.print_board()\n",
    "            print(ai.opp+\"'s turn\")\n",
    "            while not move_made:\n",
    "                move_from = input(\"Move from (e.g. B3): \")\n",
    "                while move_from[0] not in \"ABCDE\" or move_from[1] not in \"01234\":\n",
    "                    move_from = input(\"Move from (e.g. B3): \")\n",
    "                move_to = input(\"Move to (e.g. B3): \")\n",
    "                while move_to[0] not in \"ABCDE\" or move_to[1] not in \"01234\":\n",
    "                    move_to = input(\"Move to (e.g. B3): \")\n",
    "                try:\n",
    "                    ai.opponent_move([(int(move_to[1]), ord(move_to[0])-ord(\"A\")),\n",
    "                                    (int(move_from[1]), ord(move_from[0])-ord(\"A\"))])\n",
    "                    move_made = True\n",
    "                except Exception as e:\n",
    "                    print(e)\n",
    "\n",
    "        # update the game variables\n",
    "        turn += 1\n",
    "        turn %= 2\n",
    "\n",
    "    ai.print_board()\n",
    "    if ai.game_value(ai.board) == 1:\n",
    "        print(\"AI wins! Game over.\")\n",
    "    else:\n",
    "        print(\"You win! Game over.\")\n",
    "\n",
    "\n",
    "#if __name__ == \"__main__\":\n",
    "#    main()\n",
    "\n",
    "\n",
    "\n",
    "\n",
    "\n"
   ]
  },
  {
   "cell_type": "code",
   "execution_count": 7,
   "id": "be9641e7",
   "metadata": {},
   "outputs": [],
   "source": [
    "ai = TeekoPlayer()"
   ]
  },
  {
   "cell_type": "code",
   "execution_count": 8,
   "id": "6f2e0099",
   "metadata": {},
   "outputs": [
    {
     "name": "stdout",
     "output_type": "stream",
     "text": [
      "0:           \n",
      "1:           \n",
      "2:           \n",
      "3:           \n",
      "4:           \n",
      "   A B C D E\n"
     ]
    }
   ],
   "source": [
    "ai.print_board()"
   ]
  },
  {
   "cell_type": "code",
   "execution_count": 9,
   "id": "8eac15a5",
   "metadata": {},
   "outputs": [
    {
     "data": {
      "text/plain": [
       "[[' ', ' ', ' ', ' ', ' '],\n",
       " [' ', ' ', ' ', ' ', ' '],\n",
       " [' ', ' ', ' ', ' ', ' '],\n",
       " [' ', ' ', ' ', ' ', ' '],\n",
       " [' ', ' ', ' ', ' ', ' ']]"
      ]
     },
     "execution_count": 9,
     "metadata": {},
     "output_type": "execute_result"
    }
   ],
   "source": [
    "ai.board"
   ]
  },
  {
   "cell_type": "code",
   "execution_count": 32,
   "id": "21e26ca7",
   "metadata": {},
   "outputs": [],
   "source": [
    "ai.board = [['r', ' ', ' ', ' ', ' '],\n",
    " ['r', ' ', ' ', ' ', ' '],\n",
    " ['r', ' ', ' ', ' ', ' '],\n",
    " ['r', ' ', ' ', ' ', ' '],\n",
    " [' ', ' ', ' ', ' ', ' ']]"
   ]
  },
  {
   "cell_type": "code",
   "execution_count": 10,
   "id": "f59e6c0c",
   "metadata": {},
   "outputs": [
    {
     "data": {
      "text/plain": [
       "0"
      ]
     },
     "execution_count": 10,
     "metadata": {},
     "output_type": "execute_result"
    }
   ],
   "source": [
    "ai.game_value(ai.board)"
   ]
  },
  {
   "cell_type": "code",
   "execution_count": 11,
   "id": "e5d6a93e",
   "metadata": {},
   "outputs": [
    {
     "data": {
      "text/plain": [
       "'b'"
      ]
     },
     "execution_count": 11,
     "metadata": {},
     "output_type": "execute_result"
    }
   ],
   "source": [
    "ai.my_piece"
   ]
  },
  {
   "cell_type": "code",
   "execution_count": 12,
   "id": "e31e010a",
   "metadata": {},
   "outputs": [
    {
     "data": {
      "text/plain": [
       "'r'"
      ]
     },
     "execution_count": 12,
     "metadata": {},
     "output_type": "execute_result"
    }
   ],
   "source": [
    "ai.opp"
   ]
  },
  {
   "cell_type": "code",
   "execution_count": 35,
   "id": "f04a2f3a",
   "metadata": {},
   "outputs": [
    {
     "data": {
      "text/plain": [
       "1"
      ]
     },
     "execution_count": 35,
     "metadata": {},
     "output_type": "execute_result"
    }
   ],
   "source": [
    "ai.game_value(ai.board)"
   ]
  },
  {
   "cell_type": "code",
   "execution_count": 37,
   "id": "2312a7ec",
   "metadata": {},
   "outputs": [
    {
     "data": {
      "text/plain": [
       "[[0, 1],\n",
       " [0, 2],\n",
       " [0, 3],\n",
       " [0, 4],\n",
       " [1, 1],\n",
       " [1, 2],\n",
       " [1, 3],\n",
       " [1, 4],\n",
       " [2, 1],\n",
       " [2, 2],\n",
       " [2, 3],\n",
       " [2, 4],\n",
       " [3, 1],\n",
       " [3, 2],\n",
       " [3, 3],\n",
       " [3, 4],\n",
       " [4, 0],\n",
       " [4, 1],\n",
       " [4, 2],\n",
       " [4, 3],\n",
       " [4, 4]]"
      ]
     },
     "execution_count": 37,
     "metadata": {},
     "output_type": "execute_result"
    }
   ],
   "source": [
    "successors = ai.succ(ai.board)\n",
    "successors"
   ]
  },
  {
   "cell_type": "code",
   "execution_count": 38,
   "id": "77348d80",
   "metadata": {},
   "outputs": [],
   "source": [
    "ai.numPieces = 8"
   ]
  },
  {
   "cell_type": "code",
   "execution_count": 39,
   "id": "5989fd90",
   "metadata": {
    "scrolled": true
   },
   "outputs": [
    {
     "data": {
      "text/plain": [
       "[[(0, 1), (0, 0)],\n",
       " [(1, 1), (0, 0)],\n",
       " [(0, 1), (1, 0)],\n",
       " [(1, 1), (1, 0)],\n",
       " [(2, 1), (1, 0)],\n",
       " [(1, 1), (2, 0)],\n",
       " [(2, 1), (2, 0)],\n",
       " [(3, 1), (2, 0)],\n",
       " [(2, 1), (3, 0)],\n",
       " [(3, 1), (3, 0)],\n",
       " [(4, 0), (3, 0)],\n",
       " [(4, 1), (3, 0)]]"
      ]
     },
     "execution_count": 39,
     "metadata": {},
     "output_type": "execute_result"
    }
   ],
   "source": [
    "ai.succ(ai.board)"
   ]
  },
  {
   "cell_type": "code",
   "execution_count": 22,
   "id": "06bacbcd",
   "metadata": {},
   "outputs": [],
   "source": [
    "ai.my_piece = 'r'"
   ]
  },
  {
   "cell_type": "code",
   "execution_count": 24,
   "id": "e0ffbdd0",
   "metadata": {},
   "outputs": [
    {
     "name": "stdout",
     "output_type": "stream",
     "text": [
      "0: r         \n",
      "1: r         \n",
      "2: r         \n",
      "3: r         \n",
      "4:           \n",
      "   A B C D E\n"
     ]
    }
   ],
   "source": [
    "ai.print_board()"
   ]
  },
  {
   "cell_type": "code",
   "execution_count": 4,
   "id": "8140d74c",
   "metadata": {},
   "outputs": [
    {
     "ename": "NameError",
     "evalue": "name 'self' is not defined",
     "output_type": "error",
     "traceback": [
      "\u001b[0;31m---------------------------------------------------------------------------\u001b[0m",
      "\u001b[0;31mNameError\u001b[0m                                 Traceback (most recent call last)",
      "Input \u001b[0;32mIn [4]\u001b[0m, in \u001b[0;36m<cell line: 1>\u001b[0;34m()\u001b[0m\n\u001b[0;32m----> 1\u001b[0m \u001b[38;5;28;43mself\u001b[39;49m\u001b[38;5;241m.\u001b[39mopp\n",
      "\u001b[0;31mNameError\u001b[0m: name 'self' is not defined"
     ]
    }
   ],
   "source": [
    "self.opp"
   ]
  },
  {
   "cell_type": "code",
   "execution_count": 40,
   "id": "8daedaee",
   "metadata": {},
   "outputs": [
    {
     "data": {
      "text/plain": [
       "8"
      ]
     },
     "execution_count": 40,
     "metadata": {},
     "output_type": "execute_result"
    }
   ],
   "source": [
    "ai.numPieces"
   ]
  },
  {
   "cell_type": "code",
   "execution_count": 42,
   "id": "e3c63bcc",
   "metadata": {},
   "outputs": [],
   "source": [
    "ai.place_piece([(1,2)], 'b')"
   ]
  },
  {
   "cell_type": "code",
   "execution_count": 43,
   "id": "37f3c776",
   "metadata": {},
   "outputs": [
    {
     "data": {
      "text/plain": [
       "9"
      ]
     },
     "execution_count": 43,
     "metadata": {},
     "output_type": "execute_result"
    }
   ],
   "source": [
    "ai.numPieces"
   ]
  },
  {
   "cell_type": "code",
   "execution_count": 44,
   "id": "1e8b037b",
   "metadata": {},
   "outputs": [
    {
     "data": {
      "text/plain": [
       "[['r', ' ', ' ', ' ', ' '],\n",
       " ['r', ' ', 'b', ' ', ' '],\n",
       " ['r', ' ', ' ', ' ', ' '],\n",
       " ['r', ' ', ' ', ' ', ' '],\n",
       " [' ', ' ', ' ', ' ', ' ']]"
      ]
     },
     "execution_count": 44,
     "metadata": {},
     "output_type": "execute_result"
    }
   ],
   "source": [
    "ai.board"
   ]
  },
  {
   "cell_type": "code",
   "execution_count": null,
   "id": "884ea5eb",
   "metadata": {},
   "outputs": [],
   "source": []
  }
 ],
 "metadata": {
  "kernelspec": {
   "display_name": "Python 3 (ipykernel)",
   "language": "python",
   "name": "python3"
  },
  "language_info": {
   "codemirror_mode": {
    "name": "ipython",
    "version": 3
   },
   "file_extension": ".py",
   "mimetype": "text/x-python",
   "name": "python",
   "nbconvert_exporter": "python",
   "pygments_lexer": "ipython3",
   "version": "3.9.7"
  }
 },
 "nbformat": 4,
 "nbformat_minor": 5
}
